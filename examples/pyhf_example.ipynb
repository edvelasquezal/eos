{
 "cells": [
  {
   "cell_type": "code",
   "execution_count": 29,
   "metadata": {},
   "outputs": [
    {
     "name": "stdout",
     "output_type": "stream",
     "text": [
      "The autoreload extension is already loaded. To reload it, use:\n",
      "  %reload_ext autoreload\n"
     ]
    }
   ],
   "source": [
    "%load_ext autoreload\n",
    "%autoreload 2\n",
    "\n",
    "import eos\n",
    "import pyhf\n",
    "import json\n",
    "import yaml\n",
    "import numpy as np"
   ]
  },
  {
   "cell_type": "markdown",
   "metadata": {},
   "source": [
    "# Analyzing `pyhf` likelihoods with `EOS`\n",
    "\n",
    "In this example notebook we demonstrate how to use the nested sampling capabilities of `EOS` to sample from `pyhf` statistical models. The priors can be set in the `eos. In the `eos.AnalysisFile` we specify\n",
    "- the `pyhf` **likelihood**\n",
    "  - `file`: the `pyhf` workspace in `JSON` format\n",
    "  - `parameter_map`: a dictionary from `pyhf` parameters to `EOS` parameters in case you want to rename parameters. A \"pyhf::\" prefix is automatically added to the parameters.\n",
    "- the **priors** of unconstrained parameters of the modelAnalysisFile` `YAML` format. Constrained parameters are automatically assigned the corresponding priors."
   ]
  },
  {
   "cell_type": "markdown",
   "metadata": {},
   "source": [
    "## Uncorrelated backgrounds\n",
    "\n",
    "We start with an uncorrelated background uncertainty `pyhf.simplemodels` model and save it to `JSON` format."
   ]
  },
  {
   "cell_type": "code",
   "execution_count": 219,
   "metadata": {},
   "outputs": [
    {
     "data": {
      "text/plain": [
       "{'channels': [{'name': 'singlechannel',\n",
       "   'samples': [{'name': 'signal',\n",
       "     'data': [5.0, 10.0],\n",
       "     'modifiers': [{'name': 'mu', 'type': 'normfactor', 'data': None}]},\n",
       "    {'name': 'background',\n",
       "     'data': [50.0, 60.0],\n",
       "     'modifiers': [{'name': 'uncorr_bkguncrt',\n",
       "       'type': 'shapesys',\n",
       "       'data': [5.0, 6.0]}]}]}],\n",
       " 'parameters': [{'bounds': [[0, 10]],\n",
       "   'inits': [1.0],\n",
       "   'fixed': False,\n",
       "   'name': 'mu'},\n",
       "  {'bounds': [[1e-10, 10.0], [1e-10, 10.0]],\n",
       "   'inits': [1.0, 1.0],\n",
       "   'fixed': False,\n",
       "   'name': 'uncorr_bkguncrt'}]}"
      ]
     },
     "execution_count": 219,
     "metadata": {},
     "output_type": "execute_result"
    }
   ],
   "source": [
    "model = pyhf.simplemodels.uncorrelated_background(\n",
    "            signal=[5.0, 10.0], bkg=[50.0, 60.0], bkg_uncertainty=[5.0, 6.0]\n",
    "        )\n",
    "\n",
    "data = [60., 80.]\n",
    "\n",
    "workspace = pyhf.Workspace.build(model, data)\n",
    "\n",
    "with open('workspace_uncorr.json', 'w') as f:\n",
    "    json.dump(workspace, f, indent=2)\n",
    "\n",
    "workspace.model().spec"
   ]
  },
  {
   "cell_type": "markdown",
   "metadata": {},
   "source": [
    "In the `eos.AnalysisFile` we specify the `pyhf` workspace in terms of a `JSON` file. In addtion, we der the prior of the signal strength to a be uniform in the range -2 to 6."
   ]
  },
  {
   "cell_type": "code",
   "execution_count": 224,
   "metadata": {},
   "outputs": [
    {
     "data": {
      "text/plain": [
       "{'priors': [{'name': 'EXP-pyhf-params',\n",
       "   'descriptions': [{'parameter': 'pyhf::mu',\n",
       "     'min': -2,\n",
       "     'max': 6,\n",
       "     'type': 'uniform'}]}],\n",
       " 'likelihoods': [{'name': 'EXP-pyhf',\n",
       "   'pyhf': {'file': 'workspace_uncorr.json'}}],\n",
       " 'posteriors': [{'name': 'EXP-pyhf-posterior',\n",
       "   'prior': ['EXP-pyhf-params'],\n",
       "   'likelihood': ['EXP-pyhf']}]}"
      ]
     },
     "execution_count": 224,
     "metadata": {},
     "output_type": "execute_result"
    }
   ],
   "source": [
    "analysis_file = \"pyhf_uncorr.yaml\"\n",
    "with open(analysis_file) as input_file:\n",
    "    input_data = yaml.load(input_file, Loader=yaml.SafeLoader)\n",
    "\n",
    "input_data"
   ]
  },
  {
   "cell_type": "markdown",
   "metadata": {},
   "source": [
    "We read in the analysis file and confirm the correct priors by investigating the `eos.analysis.Analysis` object:"
   ]
  },
  {
   "cell_type": "code",
   "execution_count": 225,
   "metadata": {},
   "outputs": [
    {
     "data": {
      "text/html": [
       "\n",
       "        <table>\n",
       "            <colgroup>\n",
       "                <col width=\"50%\" id=\"qn\"    style=\"min-width: 200px\">\n",
       "                <col width=\"20%\" id=\"min\"   style=\"min-width: 100px\">\n",
       "                <col width=\"20%\" id=\"max\"   style=\"min-width: 100px\">\n",
       "                <col width=\"30%\" id=\"type\"  style=\"min-width: 100px\">\n",
       "            </colgroup>\n",
       "            <thead>\n",
       "                <tr>\n",
       "                    <th colspan=\"4\">priors</th>\n",
       "                </tr>\n",
       "                <tr>\n",
       "                    <th>qualified name</th>\n",
       "                    <th>min</th>\n",
       "                    <th>max</th>\n",
       "                    <th>type</th>\n",
       "                </tr>\n",
       "            </thead>\n",
       "            <tbody>\n",
       "                <tr>\n",
       "                    <td><tt>pyhf::mu</tt></td>\n",
       "                    <td>-2</td>\n",
       "                    <td>6</td>\n",
       "                    <td>uniform</td>\n",
       "                </tr>\n",
       "            \n",
       "                <tr>\n",
       "                    <td><tt>pyhf::uncorr_bkguncrt[0]</tt></td>\n",
       "                    <td>None</td>\n",
       "                    <td>None</td>\n",
       "                    <td>poisson</td>\n",
       "                </tr>\n",
       "            \n",
       "                <tr>\n",
       "                    <td><tt>pyhf::uncorr_bkguncrt[1]</tt></td>\n",
       "                    <td>None</td>\n",
       "                    <td>None</td>\n",
       "                    <td>poisson</td>\n",
       "                </tr>\n",
       "            \n",
       "            </tbody>\n",
       "            </table>\n",
       "            <table>\n",
       "            <thead>\n",
       "                <tr>\n",
       "                    <th colspan=\"2\">likelihood</th>\n",
       "                </tr>\n",
       "                <tr>\n",
       "                    <th>qualified name</th>\n",
       "                    <th>&num; obs.</th>\n",
       "                </tr>\n",
       "            </thead>\n",
       "            <tbody>\n",
       "        \n",
       "            </tbody>\n",
       "            </table>\n",
       "        "
      ],
      "text/plain": [
       "<eos.analysis.Analysis at 0x7ff08fa665f0>"
      ]
     },
     "execution_count": 225,
     "metadata": {},
     "output_type": "execute_result"
    }
   ],
   "source": [
    "af = eos.AnalysisFile(analysis_file)\n",
    "af.analysis('EXP-pyhf-posterior')"
   ]
  },
  {
   "cell_type": "markdown",
   "metadata": {},
   "source": [
    "As a cross-check we can compare the best-fit-point of the log(posterior) with the `pyhf` fit:"
   ]
  },
  {
   "cell_type": "code",
   "execution_count": 226,
   "metadata": {},
   "outputs": [
    {
     "name": "stderr",
     "output_type": "stream",
     "text": [
      "/home/lorenz/micromamba/envs/eos-dev/lib/python3.10/site-packages/pyhf/tensor/numpy_backend.py:439: RuntimeWarning: invalid value encountered in subtract\n",
      "  return xlogy(n, lam) - lam - gammaln(n + 1.0)  # type: ignore[no-any-return]\n"
     ]
    },
    {
     "data": {
      "text/html": [
       "<table>\n",
       "<tr><th>parameter</th><th>value</th></tr>\n",
       "<tr><td>mu</td><td>2.0000</td></tr><tr><td>uncorr_bkguncrt[0]</td><td>1.0000</td></tr><tr><td>uncorr_bkguncrt[1]</td><td>1.0000</td></tr></table>"
      ],
      "text/plain": [
       "<eos.analysis.BestFitPoint at 0x7ff040eb2470>"
      ]
     },
     "execution_count": 226,
     "metadata": {},
     "output_type": "execute_result"
    }
   ],
   "source": [
    "af.analysis('EXP-pyhf-posterior').optimize()"
   ]
  },
  {
   "cell_type": "code",
   "execution_count": 227,
   "metadata": {},
   "outputs": [
    {
     "data": {
      "text/plain": [
       "array([1.99996869, 0.99999252, 0.9999971 ])"
      ]
     },
     "execution_count": 227,
     "metadata": {},
     "output_type": "execute_result"
    }
   ],
   "source": [
    "pyhf.infer.mle.fit(data + model.config.auxdata, model)"
   ]
  },
  {
   "cell_type": "markdown",
   "metadata": {},
   "source": [
    "Lastly, we make use of the nested sampling capabilities of `EOS` to sample from the likelihood, given the specified priors:"
   ]
  },
  {
   "cell_type": "code",
   "execution_count": 228,
   "metadata": {},
   "outputs": [
    {
     "data": {
      "application/vnd.jupyter.widget-view+json": {
       "model_id": "80a561606cbd4bf2bfed72105039164d",
       "version_major": 2,
       "version_minor": 0
      },
      "text/plain": [
       "Accordion(children=(Output(layout=Layout(height='200px', overflow='auto')),), titles=('EXP-pyhf-posterior/nest…"
      ]
     },
     "metadata": {},
     "output_type": "display_data"
    }
   ],
   "source": [
    "eos.tasks.sample_nested(af, 'EXP-pyhf-posterior')"
   ]
  },
  {
   "cell_type": "code",
   "execution_count": 229,
   "metadata": {},
   "outputs": [
    {
     "data": {
      "application/vnd.jupyter.widget-view+json": {
       "model_id": "fb4cb7b0217b4304bea87ef442a383b4",
       "version_major": 2,
       "version_minor": 0
      },
      "text/plain": [
       "Accordion(children=(Output(layout=Layout(height='200px', overflow='auto')),), titles=('EXP-pyhf-posterior/plot…"
      ]
     },
     "metadata": {},
     "output_type": "display_data"
    },
    {
     "data": {
      "image/png": "[encoded data removed]",
      "text/plain": [
       "<Figure size 900x900 with 9 Axes>"
      ]
     },
     "metadata": {},
     "output_type": "display_data"
    }
   ],
   "source": [
    "eos.tasks.corner_plot(af, 'EXP-pyhf-posterior')"
   ]
  },
  {
   "cell_type": "markdown",
   "metadata": {},
   "source": [
    "We see, the signal strength \"mu\", peaks at the expected value of 2, whereas the background uncertainties peak at their initial values."
   ]
  },
  {
   "cell_type": "markdown",
   "metadata": {},
   "source": [
    "# Correlated backgrounds\n",
    "\n",
    "We repeat the above example with a correlated background uncertainty `pyhf.simplemodels` model."
   ]
  },
  {
   "cell_type": "code",
   "execution_count": 230,
   "metadata": {},
   "outputs": [
    {
     "data": {
      "text/plain": [
       "{'channels': [{'name': 'single_channel',\n",
       "   'samples': [{'name': 'signal',\n",
       "     'data': [5.0, 0.0],\n",
       "     'modifiers': [{'name': 'mu', 'type': 'normfactor', 'data': None}]},\n",
       "    {'name': 'background',\n",
       "     'data': [50.0, 60.0],\n",
       "     'modifiers': [{'name': 'correlated_bkg_uncertainty',\n",
       "       'type': 'histosys',\n",
       "       'data': {'hi_data': [50.0, 70.0], 'lo_data': [50.0, 55.0]}}]}]}],\n",
       " 'parameters': [{'bounds': [[-5.0, 5.0]],\n",
       "   'inits': [0.0],\n",
       "   'fixed': False,\n",
       "   'name': 'correlated_bkg_uncertainty'},\n",
       "  {'bounds': [[0, 10]], 'inits': [1.0], 'fixed': False, 'name': 'mu'}]}"
      ]
     },
     "execution_count": 230,
     "metadata": {},
     "output_type": "execute_result"
    }
   ],
   "source": [
    "model = pyhf.simplemodels.correlated_background(\n",
    "            signal=[5.0, 0.0], bkg=[50.0, 60.0], bkg_down=[50.0, 55.0], bkg_up=[50.0, 70.0]\n",
    "        )\n",
    "\n",
    "data = [60., 65.]\n",
    "\n",
    "workspace = pyhf.Workspace.build(model, data)\n",
    "\n",
    "with open('workspace_corr.json', 'w') as f:\n",
    "    json.dump(workspace, f, indent=2)\n",
    "\n",
    "workspace.model().spec"
   ]
  },
  {
   "cell_type": "markdown",
   "metadata": {},
   "source": [
    "Now we add a `parameter_map` to rename \"mu\" to \"pyhf::signal_strength\":"
   ]
  },
  {
   "cell_type": "code",
   "execution_count": 231,
   "metadata": {},
   "outputs": [
    {
     "data": {
      "text/plain": [
       "{'priors': [{'name': 'EXP-pyhf-params',\n",
       "   'descriptions': [{'parameter': 'pyhf::signal_strength',\n",
       "     'min': -2,\n",
       "     'max': 6,\n",
       "     'type': 'uniform'}]}],\n",
       " 'likelihoods': [{'name': 'EXP-pyhf',\n",
       "   'pyhf': {'file': 'workspace_corr.json',\n",
       "    'parameter_map': {'mu': 'pyhf::signal_strength'}}}],\n",
       " 'posteriors': [{'name': 'EXP-pyhf-posterior',\n",
       "   'prior': ['EXP-pyhf-params'],\n",
       "   'likelihood': ['EXP-pyhf']}]}"
      ]
     },
     "execution_count": 231,
     "metadata": {},
     "output_type": "execute_result"
    }
   ],
   "source": [
    "analysis_file = \"pyhf_corr.yaml\"\n",
    "with open(analysis_file) as input_file:\n",
    "    input_data = yaml.load(input_file, Loader=yaml.SafeLoader)\n",
    "\n",
    "input_data"
   ]
  },
  {
   "cell_type": "code",
   "execution_count": 232,
   "metadata": {},
   "outputs": [
    {
     "data": {
      "text/html": [
       "\n",
       "        <table>\n",
       "            <colgroup>\n",
       "                <col width=\"50%\" id=\"qn\"    style=\"min-width: 200px\">\n",
       "                <col width=\"20%\" id=\"min\"   style=\"min-width: 100px\">\n",
       "                <col width=\"20%\" id=\"max\"   style=\"min-width: 100px\">\n",
       "                <col width=\"30%\" id=\"type\"  style=\"min-width: 100px\">\n",
       "            </colgroup>\n",
       "            <thead>\n",
       "                <tr>\n",
       "                    <th colspan=\"4\">priors</th>\n",
       "                </tr>\n",
       "                <tr>\n",
       "                    <th>qualified name</th>\n",
       "                    <th>min</th>\n",
       "                    <th>max</th>\n",
       "                    <th>type</th>\n",
       "                </tr>\n",
       "            </thead>\n",
       "            <tbody>\n",
       "                <tr>\n",
       "                    <td><tt>pyhf::signal_strength</tt></td>\n",
       "                    <td>-2</td>\n",
       "                    <td>6</td>\n",
       "                    <td>uniform</td>\n",
       "                </tr>\n",
       "            \n",
       "                <tr>\n",
       "                    <td><tt>pyhf::correlated_bkg_uncertainty</tt></td>\n",
       "                    <td>None</td>\n",
       "                    <td>None</td>\n",
       "                    <td>gauss</td>\n",
       "                </tr>\n",
       "            \n",
       "            </tbody>\n",
       "            </table>\n",
       "            <table>\n",
       "            <thead>\n",
       "                <tr>\n",
       "                    <th colspan=\"2\">likelihood</th>\n",
       "                </tr>\n",
       "                <tr>\n",
       "                    <th>qualified name</th>\n",
       "                    <th>&num; obs.</th>\n",
       "                </tr>\n",
       "            </thead>\n",
       "            <tbody>\n",
       "        \n",
       "            </tbody>\n",
       "            </table>\n",
       "        "
      ],
      "text/plain": [
       "<eos.analysis.Analysis at 0x7ff0367b4b50>"
      ]
     },
     "execution_count": 232,
     "metadata": {},
     "output_type": "execute_result"
    }
   ],
   "source": [
    "af = eos.AnalysisFile(\"pyhf_corr.yaml\")\n",
    "test = af.analysis('EXP-pyhf-posterior')\n",
    "test"
   ]
  },
  {
   "cell_type": "markdown",
   "metadata": {},
   "source": [
    "We cross-check the best-fit-point of the log(posterior) with the `pyhf` fit:"
   ]
  },
  {
   "cell_type": "code",
   "execution_count": 233,
   "metadata": {},
   "outputs": [
    {
     "name": "stderr",
     "output_type": "stream",
     "text": [
      "/home/lorenz/micromamba/envs/eos-dev/lib/python3.10/site-packages/pyhf/tensor/numpy_backend.py:439: RuntimeWarning: invalid value encountered in subtract\n",
      "  return xlogy(n, lam) - lam - gammaln(n + 1.0)  # type: ignore[no-any-return]\n"
     ]
    },
    {
     "data": {
      "text/html": [
       "<table>\n",
       "<tr><th>parameter</th><th>value</th></tr>\n",
       "<tr><td>mu</td><td>2.0000</td></tr><tr><td>correlated_bkg_uncertainty</td><td>0.3305</td></tr></table>"
      ],
      "text/plain": [
       "<eos.analysis.BestFitPoint at 0x7ff04045acb0>"
      ]
     },
     "execution_count": 233,
     "metadata": {},
     "output_type": "execute_result"
    }
   ],
   "source": [
    "test.optimize()"
   ]
  },
  {
   "cell_type": "code",
   "execution_count": 234,
   "metadata": {},
   "outputs": [
    {
     "data": {
      "text/plain": [
       "array([0.33045059, 1.99999901])"
      ]
     },
     "execution_count": 234,
     "metadata": {},
     "output_type": "execute_result"
    }
   ],
   "source": [
    "pyhf.infer.mle.fit(data + model.config.auxdata, model)"
   ]
  },
  {
   "cell_type": "markdown",
   "metadata": {},
   "source": [
    "Lastly, we sample again from the likelihood, given the specified priors:"
   ]
  },
  {
   "cell_type": "code",
   "execution_count": 235,
   "metadata": {},
   "outputs": [
    {
     "data": {
      "application/vnd.jupyter.widget-view+json": {
       "model_id": "4b56f7cfd9aa4f56877e4de31e0054d2",
       "version_major": 2,
       "version_minor": 0
      },
      "text/plain": [
       "Accordion(children=(Output(layout=Layout(height='200px', overflow='auto')),), titles=('EXP-pyhf-posterior/nest…"
      ]
     },
     "metadata": {},
     "output_type": "display_data"
    }
   ],
   "source": [
    "eos.tasks.sample_nested(af, 'EXP-pyhf-posterior')"
   ]
  },
  {
   "cell_type": "code",
   "execution_count": 236,
   "metadata": {},
   "outputs": [
    {
     "data": {
      "application/vnd.jupyter.widget-view+json": {
       "model_id": "60b19bcd9e7d481cbdd57f150e3b03ac",
       "version_major": 2,
       "version_minor": 0
      },
      "text/plain": [
       "Accordion(children=(Output(layout=Layout(height='200px', overflow='auto')),), titles=('EXP-pyhf-posterior/plot…"
      ]
     },
     "metadata": {},
     "output_type": "display_data"
    },
    {
     "data": {
      "image/png": "[encoded data removed]",
      "text/plain": [
       "<Figure size 600x600 with 4 Axes>"
      ]
     },
     "metadata": {},
     "output_type": "display_data"
    }
   ],
   "source": [
    "eos.tasks.corner_plot(af, 'EXP-pyhf-posterior')"
   ]
  },
  {
   "cell_type": "markdown",
   "metadata": {},
   "source": [
    "The signal strength \"mu\", peaks at the expected value of 2, whereas the background uncertainties peak at their initial values."
   ]
  },
  {
   "cell_type": "markdown",
   "metadata": {},
   "source": []
  }
 ],
 "metadata": {
  "kernelspec": {
   "display_name": "Python 3",
   "language": "python",
   "name": "python3"
  },
  "language_info": {
   "codemirror_mode": {
    "name": "ipython",
    "version": 3
   },
   "file_extension": ".py",
   "mimetype": "text/x-python",
   "name": "python",
   "nbconvert_exporter": "python",
   "pygments_lexer": "ipython3",
   "version": "3.10.13"
  },
  "orig_nbformat": 4
 },
 "nbformat": 4,
 "nbformat_minor": 2
}
